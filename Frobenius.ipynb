{
 "cells": [
  {
   "cell_type": "code",
   "execution_count": 189,
   "metadata": {},
   "outputs": [],
   "source": [
    "import numpy as np\n",
    "import itertools"
   ]
  },
  {
   "cell_type": "code",
   "execution_count": 190,
   "metadata": {},
   "outputs": [],
   "source": [
    "numbers = itertools.combinations(range(2, 10), 3)\n",
    "number_list = list(numbers)"
   ]
  },
  {
   "cell_type": "code",
   "execution_count": 191,
   "metadata": {},
   "outputs": [],
   "source": [
    "def make_set(numbers):\n",
    "    makeable = []\n",
    "    mass = list(itertools.product(range(0, 30), repeat = len(numbers)))\n",
    "    for m in mass:\n",
    "        x = np.dot(np.array(numbers), np.array(m))\n",
    "        makeable.append(x)\n",
    "    return set(makeable)"
   ]
  },
  {
   "cell_type": "code",
   "execution_count": 192,
   "metadata": {},
   "outputs": [],
   "source": [
    "def toinfinity(the_set, small_number):\n",
    "    fails = [0]\n",
    "    for element in the_set:\n",
    "        if element not in fails:\n",
    "            target = element + small_number - 1\n",
    "            sub = element\n",
    "            #print(\"target\", target)\n",
    "            #print(\"sub\", sub)\n",
    "            while sub < target:\n",
    "                if sub in the_set:\n",
    "                    fails.append(sub)\n",
    "                    sub += 1\n",
    "                else:\n",
    "                    break\n",
    "            if sub == target:\n",
    "                return list(range(element, target + 1))\n",
    "                \n",
    "    return \"no result\""
   ]
  },
  {
   "cell_type": "code",
   "execution_count": 193,
   "metadata": {},
   "outputs": [],
   "source": [
    "def frobenius(numbers):\n",
    "    makeables = make_set(numbers)\n",
    "    total_set = set(range(max(makeables)))\n",
    "    smallest_number = min(number)\n",
    "    last = toinfinity(makeables, smallest_number) \n",
    "    unmake_set = total_set - makeables\n",
    "    \n",
    "    if isinstance(last, str):\n",
    "        return unmake_set\n",
    "    else:\n",
    "        return [a for a in unmake_set if a <= max(last)]"
   ]
  },
  {
   "cell_type": "code",
   "execution_count": 198,
   "metadata": {},
   "outputs": [
    {
     "name": "stdout",
     "output_type": "stream",
     "text": [
      "[1, 2, 3, 4, 5, 6, 7, 8, 9, 10, 12, 13, 14, 15, 16, 18, 19, 20, 21, 23, 24, 25, 26, 29, 30, 32, 35, 36, 37, 40, 41, 43, 46, 47, 52, 57, 63]\n",
      "63\n"
     ]
    }
   ],
   "source": [
    "fro = frobenius([72, 11, 17, 27, 31])\n",
    "print(fro)\n",
    "print(max(fro))"
   ]
  }
 ],
 "metadata": {
  "kernelspec": {
   "display_name": "Python 3",
   "language": "python",
   "name": "python3"
  },
  "language_info": {
   "codemirror_mode": {
    "name": "ipython",
    "version": 3
   },
   "file_extension": ".py",
   "mimetype": "text/x-python",
   "name": "python",
   "nbconvert_exporter": "python",
   "pygments_lexer": "ipython3",
   "version": "3.7.3"
  }
 },
 "nbformat": 4,
 "nbformat_minor": 2
}
